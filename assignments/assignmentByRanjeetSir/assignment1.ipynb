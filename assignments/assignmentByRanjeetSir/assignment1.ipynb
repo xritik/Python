{
 "cells": [
  {
   "cell_type": "code",
   "execution_count": 1,
   "metadata": {},
   "outputs": [],
   "source": [
    "ls1 = ['A','B','C','D']"
   ]
  },
  {
   "cell_type": "code",
   "execution_count": 2,
   "metadata": {},
   "outputs": [
    {
     "name": "stdout",
     "output_type": "stream",
     "text": [
      "['A', 'B', 'Z', 'C', 'D']\n"
     ]
    }
   ],
   "source": [
    "# 1. insert 'Z' at the 2nd position in above list\n",
    "\n",
    "ls1.insert(2,'Z')\n",
    "print(ls1)"
   ]
  },
  {
   "cell_type": "code",
   "execution_count": 11,
   "metadata": {},
   "outputs": [
    {
     "name": "stdout",
     "output_type": "stream",
     "text": [
      "['A', 'B', 'C']\n"
     ]
    }
   ],
   "source": [
    "# 2. remove 'D' from the list do it by multiple  ways. del, remove , pop .\n",
    "\n",
    "# ls1.pop(4)\n",
    "ls1 = ['A','B','C','D']\n",
    "ls1.remove('D')\n",
    "ls1 = ['A','B','C','D']\n",
    "del(ls1[3])\n",
    "print(ls1)"
   ]
  },
  {
   "cell_type": "code",
   "execution_count": 15,
   "metadata": {},
   "outputs": [
    {
     "name": "stdout",
     "output_type": "stream",
     "text": [
      "[2, 5, 54, 69, 85, 85, 96]\n",
      "[96, 85, 85, 69, 54, 5, 2]\n",
      "[96, 85, 85, 69, 54, 5, 2]\n"
     ]
    }
   ],
   "source": [
    "ls2 = [85,96,54,5,85,69,2]\n",
    "# 1. sort the list into  ascending order as well as desecnding order. \n",
    "\n",
    "ls2.sort()\n",
    "print(ls2)\n",
    "print(ls2[::-1])\n",
    "\n",
    "ls2 = [85,96,54,5,85,69,2]\n",
    "ls2.sort()\n",
    "ls2.reverse()\n",
    "print(ls2)"
   ]
  },
  {
   "cell_type": "code",
   "execution_count": 16,
   "metadata": {},
   "outputs": [
    {
     "name": "stdout",
     "output_type": "stream",
     "text": [
      "[85, 96, 54, 5, 85, 69, 2, 'RADHEY', 'UPFLAIRS']\n"
     ]
    }
   ],
   "source": [
    "# 2. ls3 = [\"RADHEY\",\"UPFLAIRS\"]  extend into ls2.\n",
    "\n",
    "ls2 = [85,96,54,5,85,69,2]\n",
    "ls3 = [\"RADHEY\",\"UPFLAIRS\"]\n",
    "\n",
    "ls2.extend(ls3)\n",
    "print(ls2)"
   ]
  },
  {
   "cell_type": "code",
   "execution_count": 24,
   "metadata": {},
   "outputs": [
    {
     "name": "stdout",
     "output_type": "stream",
     "text": [
      "Radha\n"
     ]
    }
   ],
   "source": [
    "# 3.  update \"RADHEY\" by the \"Radha\"\n",
    "\n",
    "str = \"RADHEY\"\n",
    "newStr = str.title().replace('ey', 'a')\n",
    "print(newStr)"
   ]
  },
  {
   "cell_type": "code",
   "execution_count": 29,
   "metadata": {},
   "outputs": [
    {
     "name": "stdout",
     "output_type": "stream",
     "text": [
      "AIR\n"
     ]
    }
   ],
   "source": [
    "# 4. extract \"AIR\" from the \"UPFLAIRS\" from ls2.\n",
    "# 4. extract \"AIR\" from the \"UPFLAIRS\" from ls2.\n",
    "\n",
    "ls2 = [85,96,54,5,85,69,2,\"RADHEY\",\"UPFLAIRS\"]\n",
    "ls = ls2[8][4:7]\n",
    "print(ls)"
   ]
  }
 ],
 "metadata": {
  "kernelspec": {
   "display_name": "Python 3",
   "language": "python",
   "name": "python3"
  },
  "language_info": {
   "codemirror_mode": {
    "name": "ipython",
    "version": 3
   },
   "file_extension": ".py",
   "mimetype": "text/x-python",
   "name": "python",
   "nbconvert_exporter": "python",
   "pygments_lexer": "ipython3",
   "version": "3.8.10"
  }
 },
 "nbformat": 4,
 "nbformat_minor": 2
}
