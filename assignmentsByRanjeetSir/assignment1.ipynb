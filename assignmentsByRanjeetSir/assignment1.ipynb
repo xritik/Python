{
 "cells": [
  {
   "cell_type": "code",
   "execution_count": 2,
   "metadata": {},
   "outputs": [],
   "source": [
    "ls1 = ['A','B','C','D']"
   ]
  },
  {
   "cell_type": "code",
   "execution_count": 3,
   "metadata": {},
   "outputs": [
    {
     "name": "stdout",
     "output_type": "stream",
     "text": [
      "['A', 'B', 'Z', 'C', 'D']\n"
     ]
    }
   ],
   "source": [
    "# 1. insert 'Z' at the 2nd position in above list\n",
    "\n",
    "ls1.insert(2,'Z')\n",
    "print(ls1)"
   ]
  },
  {
   "cell_type": "code",
   "execution_count": 4,
   "metadata": {},
   "outputs": [
    {
     "name": "stdout",
     "output_type": "stream",
     "text": [
      "['A', 'B', 'C']\n"
     ]
    }
   ],
   "source": [
    "# 2. remove 'D' from the list do it by multiple  ways. del, remove , pop .\n",
    "\n",
    "# ls1.pop(4)\n",
    "ls1 = ['A','B','C','D']\n",
    "ls1.remove('D')\n",
    "ls1 = ['A','B','C','D']\n",
    "del(ls1[3])\n",
    "print(ls1)"
   ]
  },
  {
   "cell_type": "code",
   "execution_count": 5,
   "metadata": {},
   "outputs": [
    {
     "name": "stdout",
     "output_type": "stream",
     "text": [
      "[2, 5, 54, 69, 85, 85, 96]\n",
      "[96, 85, 85, 69, 54, 5, 2]\n",
      "[96, 85, 85, 69, 54, 5, 2]\n"
     ]
    }
   ],
   "source": [
    "ls2 = [85,96,54,5,85,69,2]\n",
    "# 1. sort the list into  ascending order as well as desecnding order. \n",
    "\n",
    "ls2.sort()\n",
    "print(ls2)\n",
    "print(ls2[::-1])\n",
    "\n",
    "ls2 = [85,96,54,5,85,69,2]\n",
    "ls2.sort()\n",
    "ls2.reverse()\n",
    "print(ls2)"
   ]
  },
  {
   "cell_type": "code",
   "execution_count": 6,
   "metadata": {},
   "outputs": [
    {
     "name": "stdout",
     "output_type": "stream",
     "text": [
      "[85, 96, 54, 5, 85, 69, 2, 'RADHEY', 'UPFLAIRS']\n"
     ]
    }
   ],
   "source": [
    "# 2. ls3 = [\"RADHEY\",\"UPFLAIRS\"]  extend into ls2.\n",
    "\n",
    "ls2 = [85,96,54,5,85,69,2]\n",
    "ls3 = [\"RADHEY\",\"UPFLAIRS\"]\n",
    "\n",
    "ls2.extend(ls3)\n",
    "print(ls2)"
   ]
  },
  {
   "cell_type": "code",
   "execution_count": 7,
   "metadata": {},
   "outputs": [
    {
     "name": "stdout",
     "output_type": "stream",
     "text": [
      "Radha\n"
     ]
    }
   ],
   "source": [
    "# 3.  update \"RADHEY\" by the \"Radha\"\n",
    "\n",
    "str = \"RADHEY\"\n",
    "newStr = str.title().replace('ey', 'a')\n",
    "print(newStr)"
   ]
  },
  {
   "cell_type": "code",
   "execution_count": 8,
   "metadata": {},
   "outputs": [
    {
     "name": "stdout",
     "output_type": "stream",
     "text": [
      "AIR\n"
     ]
    }
   ],
   "source": [
    "# 4. extract \"AIR\" from the \"UPFLAIRS\" from ls2.\n",
    "\n",
    "ls2 = [85,96,54,5,85,69,2,\"RADHEY\",\"UPFLAIRS\"]\n",
    "ls = ls2[8][4:7]\n",
    "print(ls)"
   ]
  },
  {
   "cell_type": "code",
   "execution_count": 2,
   "metadata": {},
   "outputs": [
    {
     "name": "stdout",
     "output_type": "stream",
     "text": [
      "0  ===>   10\n",
      "1  ===>   25\n",
      "2  ===>   36\n",
      "3  ===>   85\n",
      "4  ===>   95\n",
      "5  ===>   45\n",
      "6  ===>   68\n",
      "7  ===>   45\n"
     ]
    }
   ],
   "source": [
    "# test\n",
    "ls = [10,25,36,85,95,45,68,45]\n",
    "i = 0\n",
    "while i < len(ls):\n",
    "    print(i, \" ===>  \", ls[i])\n",
    "    i = i +1"
   ]
  },
  {
   "cell_type": "code",
   "execution_count": 6,
   "metadata": {},
   "outputs": [
    {
     "name": "stdout",
     "output_type": "stream",
     "text": [
      "32.54545454545455\n"
     ]
    }
   ],
   "source": [
    "### Task 1.\n",
    "\n",
    "\n",
    "ls = [10,42,5,153,6,9,85,7,5,4,5,6,1,4,5,2,36,75,84,69,58,45]\n",
    "\n",
    "# 1. write a program to find average of the above list. \n",
    "\n",
    "x = 0\n",
    "for i in range(len(ls)):\n",
    "    x = x+ls[i]\n",
    "print(x/(len(ls)))"
   ]
  },
  {
   "cell_type": "code",
   "execution_count": 7,
   "metadata": {},
   "outputs": [
    {
     "name": "stdout",
     "output_type": "stream",
     "text": [
      "25.2\n"
     ]
    }
   ],
   "source": [
    "# 2. write a program to find average of a even numbers from the above list. \n",
    "\n",
    "x = 0\n",
    "a = 0\n",
    "for i in range(len(ls)):\n",
    "    if (ls[i]%2 == 0 ):\n",
    "        a = a + 1\n",
    "        x = x+ls[i]\n",
    "print(x/a)"
   ]
  },
  {
   "cell_type": "code",
   "execution_count": 11,
   "metadata": {},
   "outputs": [
    {
     "name": "stdout",
     "output_type": "stream",
     "text": [
      "13.75\n"
     ]
    }
   ],
   "source": [
    "# 3. write a program to find average of a even numbers from the above list and even number should be less than 50. \n",
    "\n",
    "x = 0\n",
    "a = 0\n",
    "for i in range(len(ls)):\n",
    "    if(ls[i]%2 == 0 and ls[i] < 50):\n",
    "        a = a + 1\n",
    "        x = x+ls[i]\n",
    "print(x/a)"
   ]
  },
  {
   "cell_type": "code",
   "execution_count": 14,
   "metadata": {},
   "outputs": [
    {
     "name": "stdout",
     "output_type": "stream",
     "text": [
      "4\n"
     ]
    }
   ],
   "source": [
    "###  Task 2.\n",
    "\n",
    "student_data = {  'Name':['mohit','suresh','chandan','kartik'],   'Marks':[25,36,45,46],   'subject':'math'  }\n",
    "\n",
    "#  1. find the no. of student in a \"student_data\"?\n",
    "\n",
    "print(len(student_data[\"Name\"]))"
   ]
  },
  {
   "cell_type": "code",
   "execution_count": 45,
   "metadata": {},
   "outputs": [
    {
     "name": "stdout",
     "output_type": "stream",
     "text": [
      "{'Name': ['mohit', 'suresh', 'chandan', 'kartik', 'kaalu'], 'Marks': [25, 36, 45, 46, 38], 'subject': 'math'}\n"
     ]
    }
   ],
   "source": [
    "#  2. add one more student record inside student_data \"kaalu\" and their marks = 38\n",
    "\n",
    "student_data = {  'Name':['mohit','suresh','chandan','kartik'],   'Marks':[25,36,45,46],   'subject':'math'  }\n",
    "\n",
    "student_data[\"Name\"].insert(4,'kaalu')\n",
    "student_data[\"Marks\"].insert(4,38)\n",
    "print(student_data)"
   ]
  },
  {
   "cell_type": "code",
   "execution_count": 59,
   "metadata": {},
   "outputs": [
    {
     "data": {
      "text/plain": [
       "{'Name': ['mohit', 'chandan', 'kartik'],\n",
       " 'Marks': [25, 45, 46],\n",
       " 'subject': 'math'}"
      ]
     },
     "execution_count": 59,
     "metadata": {},
     "output_type": "execute_result"
    }
   ],
   "source": [
    "#  3. remove the student \"suresh\" and thier marks from the student_data.\n",
    "\n",
    "student_data = {  'Name':['mohit','suresh','chandan','kartik'],   'Marks':[25,36,45,46],   'subject':'math'  }\n",
    "\n",
    "student_data['Name'].pop(1)\n",
    "(student_data['Marks']).pop(1)\n",
    "student_data"
   ]
  }
 ],
 "metadata": {
  "kernelspec": {
   "display_name": "Python 3",
   "language": "python",
   "name": "python3"
  },
  "language_info": {
   "codemirror_mode": {
    "name": "ipython",
    "version": 3
   },
   "file_extension": ".py",
   "mimetype": "text/x-python",
   "name": "python",
   "nbconvert_exporter": "python",
   "pygments_lexer": "ipython3",
   "version": "3.8.10"
  }
 },
 "nbformat": 4,
 "nbformat_minor": 2
}
